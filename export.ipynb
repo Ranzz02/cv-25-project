{
 "cells": [
  {
   "cell_type": "code",
   "execution_count": 19,
   "metadata": {},
   "outputs": [
    {
     "name": "stdout",
     "output_type": "stream",
     "text": [
      "Requirement already satisfied: label_studio_sdk in c:\\users\\rasmu\\anaconda3\\envs\\labelstudio\\lib\\site-packages (1.0.10)\n",
      "Requirement already satisfied: Pillow>=10.0.1 in c:\\users\\rasmu\\anaconda3\\envs\\labelstudio\\lib\\site-packages (from label_studio_sdk) (11.1.0)\n",
      "Requirement already satisfied: appdirs>=1.4.3 in c:\\users\\rasmu\\anaconda3\\envs\\labelstudio\\lib\\site-packages (from label_studio_sdk) (1.4.4)\n",
      "Requirement already satisfied: datamodel-code-generator==0.26.1 in c:\\users\\rasmu\\anaconda3\\envs\\labelstudio\\lib\\site-packages (from label_studio_sdk) (0.26.1)\n",
      "Requirement already satisfied: httpx>=0.21.2 in c:\\users\\rasmu\\anaconda3\\envs\\labelstudio\\lib\\site-packages (from label_studio_sdk) (0.28.1)\n",
      "Requirement already satisfied: ijson>=3.2.3 in c:\\users\\rasmu\\anaconda3\\envs\\labelstudio\\lib\\site-packages (from label_studio_sdk) (3.2.3)\n",
      "Requirement already satisfied: jsf<0.12.0,>=0.11.2 in c:\\users\\rasmu\\anaconda3\\envs\\labelstudio\\lib\\site-packages (from label_studio_sdk) (0.11.2)\n",
      "Requirement already satisfied: jsonschema>=4.23.0 in c:\\users\\rasmu\\anaconda3\\envs\\labelstudio\\lib\\site-packages (from label_studio_sdk) (4.23.0)\n",
      "Requirement already satisfied: lxml>=4.2.5 in c:\\users\\rasmu\\anaconda3\\envs\\labelstudio\\lib\\site-packages (from label_studio_sdk) (5.3.1)\n",
      "Requirement already satisfied: nltk<4.0.0,>=3.9.1 in c:\\users\\rasmu\\anaconda3\\envs\\labelstudio\\lib\\site-packages (from label_studio_sdk) (3.9.1)\n",
      "Requirement already satisfied: numpy<2.0.0,>=1.26.4 in c:\\users\\rasmu\\anaconda3\\envs\\labelstudio\\lib\\site-packages (from label_studio_sdk) (1.26.4)\n",
      "Requirement already satisfied: pandas>=0.24.0 in c:\\users\\rasmu\\anaconda3\\envs\\labelstudio\\lib\\site-packages (from label_studio_sdk) (2.2.3)\n",
      "Requirement already satisfied: pydantic>=1.9.2 in c:\\users\\rasmu\\anaconda3\\envs\\labelstudio\\lib\\site-packages (from label_studio_sdk) (2.10.6)\n",
      "Requirement already satisfied: pydantic-core<3.0.0,>=2.18.2 in c:\\users\\rasmu\\anaconda3\\envs\\labelstudio\\lib\\site-packages (from label_studio_sdk) (2.27.2)\n",
      "Requirement already satisfied: requests>=2.22.0 in c:\\users\\rasmu\\anaconda3\\envs\\labelstudio\\lib\\site-packages (from label_studio_sdk) (2.32.3)\n",
      "Requirement already satisfied: requests-mock==1.12.1 in c:\\users\\rasmu\\anaconda3\\envs\\labelstudio\\lib\\site-packages (from label_studio_sdk) (1.12.1)\n",
      "Requirement already satisfied: typing_extensions>=4.0.0 in c:\\users\\rasmu\\anaconda3\\envs\\labelstudio\\lib\\site-packages (from label_studio_sdk) (4.12.2)\n",
      "Requirement already satisfied: ujson>=5.8.0 in c:\\users\\rasmu\\anaconda3\\envs\\labelstudio\\lib\\site-packages (from label_studio_sdk) (5.10.0)\n",
      "Requirement already satisfied: xmljson==0.2.1 in c:\\users\\rasmu\\anaconda3\\envs\\labelstudio\\lib\\site-packages (from label_studio_sdk) (0.2.1)\n",
      "Requirement already satisfied: argcomplete<4.0,>=1.10 in c:\\users\\rasmu\\anaconda3\\envs\\labelstudio\\lib\\site-packages (from datamodel-code-generator==0.26.1->label_studio_sdk) (3.5.3)\n",
      "Requirement already satisfied: black>=19.10b0 in c:\\users\\rasmu\\anaconda3\\envs\\labelstudio\\lib\\site-packages (from datamodel-code-generator==0.26.1->label_studio_sdk) (25.1.0)\n",
      "Requirement already satisfied: genson<2.0,>=1.2.1 in c:\\users\\rasmu\\anaconda3\\envs\\labelstudio\\lib\\site-packages (from datamodel-code-generator==0.26.1->label_studio_sdk) (1.3.0)\n",
      "Requirement already satisfied: inflect<6.0,>=4.1.0 in c:\\users\\rasmu\\anaconda3\\envs\\labelstudio\\lib\\site-packages (from datamodel-code-generator==0.26.1->label_studio_sdk) (5.6.2)\n",
      "Requirement already satisfied: isort<6.0,>=4.3.21 in c:\\users\\rasmu\\anaconda3\\envs\\labelstudio\\lib\\site-packages (from datamodel-code-generator==0.26.1->label_studio_sdk) (5.13.2)\n",
      "Requirement already satisfied: jinja2<4.0,>=2.10.1 in c:\\users\\rasmu\\anaconda3\\envs\\labelstudio\\lib\\site-packages (from datamodel-code-generator==0.26.1->label_studio_sdk) (3.1.5)\n",
      "Requirement already satisfied: packaging in c:\\users\\rasmu\\anaconda3\\envs\\labelstudio\\lib\\site-packages (from datamodel-code-generator==0.26.1->label_studio_sdk) (24.2)\n",
      "Requirement already satisfied: pyyaml>=6.0.1 in c:\\users\\rasmu\\anaconda3\\envs\\labelstudio\\lib\\site-packages (from datamodel-code-generator==0.26.1->label_studio_sdk) (6.0.2)\n",
      "Requirement already satisfied: anyio in c:\\users\\rasmu\\anaconda3\\envs\\labelstudio\\lib\\site-packages (from httpx>=0.21.2->label_studio_sdk) (4.8.0)\n",
      "Requirement already satisfied: certifi in c:\\users\\rasmu\\anaconda3\\envs\\labelstudio\\lib\\site-packages (from httpx>=0.21.2->label_studio_sdk) (2025.1.31)\n",
      "Requirement already satisfied: httpcore==1.* in c:\\users\\rasmu\\anaconda3\\envs\\labelstudio\\lib\\site-packages (from httpx>=0.21.2->label_studio_sdk) (1.0.7)\n",
      "Requirement already satisfied: idna in c:\\users\\rasmu\\anaconda3\\envs\\labelstudio\\lib\\site-packages (from httpx>=0.21.2->label_studio_sdk) (3.10)\n",
      "Requirement already satisfied: h11<0.15,>=0.13 in c:\\users\\rasmu\\anaconda3\\envs\\labelstudio\\lib\\site-packages (from httpcore==1.*->httpx>=0.21.2->label_studio_sdk) (0.14.0)\n",
      "Requirement already satisfied: faker>=15.3.4 in c:\\users\\rasmu\\anaconda3\\envs\\labelstudio\\lib\\site-packages (from jsf<0.12.0,>=0.11.2->label_studio_sdk) (36.1.1)\n",
      "Requirement already satisfied: rstr>=3.2.0 in c:\\users\\rasmu\\anaconda3\\envs\\labelstudio\\lib\\site-packages (from jsf<0.12.0,>=0.11.2->label_studio_sdk) (3.2.2)\n",
      "Requirement already satisfied: smart-open>=6.3.0 in c:\\users\\rasmu\\anaconda3\\envs\\labelstudio\\lib\\site-packages (from smart-open[http]>=6.3.0->jsf<0.12.0,>=0.11.2->label_studio_sdk) (7.1.0)\n",
      "Requirement already satisfied: attrs>=22.2.0 in c:\\users\\rasmu\\anaconda3\\envs\\labelstudio\\lib\\site-packages (from jsonschema>=4.23.0->label_studio_sdk) (25.1.0)\n",
      "Requirement already satisfied: jsonschema-specifications>=2023.03.6 in c:\\users\\rasmu\\anaconda3\\envs\\labelstudio\\lib\\site-packages (from jsonschema>=4.23.0->label_studio_sdk) (2024.10.1)\n",
      "Requirement already satisfied: referencing>=0.28.4 in c:\\users\\rasmu\\anaconda3\\envs\\labelstudio\\lib\\site-packages (from jsonschema>=4.23.0->label_studio_sdk) (0.36.2)\n",
      "Requirement already satisfied: rpds-py>=0.7.1 in c:\\users\\rasmu\\anaconda3\\envs\\labelstudio\\lib\\site-packages (from jsonschema>=4.23.0->label_studio_sdk) (0.23.1)\n",
      "Requirement already satisfied: click in c:\\users\\rasmu\\anaconda3\\envs\\labelstudio\\lib\\site-packages (from nltk<4.0.0,>=3.9.1->label_studio_sdk) (8.1.8)\n",
      "Requirement already satisfied: joblib in c:\\users\\rasmu\\anaconda3\\envs\\labelstudio\\lib\\site-packages (from nltk<4.0.0,>=3.9.1->label_studio_sdk) (1.4.2)\n",
      "Requirement already satisfied: regex>=2021.8.3 in c:\\users\\rasmu\\anaconda3\\envs\\labelstudio\\lib\\site-packages (from nltk<4.0.0,>=3.9.1->label_studio_sdk) (2024.11.6)\n",
      "Requirement already satisfied: tqdm in c:\\users\\rasmu\\anaconda3\\envs\\labelstudio\\lib\\site-packages (from nltk<4.0.0,>=3.9.1->label_studio_sdk) (4.67.1)\n",
      "Requirement already satisfied: python-dateutil>=2.8.2 in c:\\users\\rasmu\\anaconda3\\envs\\labelstudio\\lib\\site-packages (from pandas>=0.24.0->label_studio_sdk) (2.9.0.post0)\n",
      "Requirement already satisfied: pytz>=2020.1 in c:\\users\\rasmu\\anaconda3\\envs\\labelstudio\\lib\\site-packages (from pandas>=0.24.0->label_studio_sdk) (2022.7.1)\n",
      "Requirement already satisfied: tzdata>=2022.7 in c:\\users\\rasmu\\anaconda3\\envs\\labelstudio\\lib\\site-packages (from pandas>=0.24.0->label_studio_sdk) (2025.1)\n",
      "Requirement already satisfied: annotated-types>=0.6.0 in c:\\users\\rasmu\\anaconda3\\envs\\labelstudio\\lib\\site-packages (from pydantic>=1.9.2->label_studio_sdk) (0.7.0)\n",
      "Requirement already satisfied: charset-normalizer<4,>=2 in c:\\users\\rasmu\\anaconda3\\envs\\labelstudio\\lib\\site-packages (from requests>=2.22.0->label_studio_sdk) (3.4.1)\n",
      "Requirement already satisfied: urllib3<3,>=1.21.1 in c:\\users\\rasmu\\anaconda3\\envs\\labelstudio\\lib\\site-packages (from requests>=2.22.0->label_studio_sdk) (1.26.20)\n",
      "Requirement already satisfied: mypy-extensions>=0.4.3 in c:\\users\\rasmu\\anaconda3\\envs\\labelstudio\\lib\\site-packages (from black>=19.10b0->datamodel-code-generator==0.26.1->label_studio_sdk) (1.0.0)\n",
      "Requirement already satisfied: pathspec>=0.9.0 in c:\\users\\rasmu\\anaconda3\\envs\\labelstudio\\lib\\site-packages (from black>=19.10b0->datamodel-code-generator==0.26.1->label_studio_sdk) (0.12.1)\n",
      "Requirement already satisfied: platformdirs>=2 in c:\\users\\rasmu\\anaconda3\\envs\\labelstudio\\lib\\site-packages (from black>=19.10b0->datamodel-code-generator==0.26.1->label_studio_sdk) (4.3.6)\n",
      "Requirement already satisfied: colorama in c:\\users\\rasmu\\anaconda3\\envs\\labelstudio\\lib\\site-packages (from click->nltk<4.0.0,>=3.9.1->label_studio_sdk) (0.4.6)\n",
      "Requirement already satisfied: MarkupSafe>=2.0 in c:\\users\\rasmu\\anaconda3\\envs\\labelstudio\\lib\\site-packages (from jinja2<4.0,>=2.10.1->datamodel-code-generator==0.26.1->label_studio_sdk) (3.0.2)\n",
      "Requirement already satisfied: email-validator>=2.0.0 in c:\\users\\rasmu\\anaconda3\\envs\\labelstudio\\lib\\site-packages (from pydantic[email]!=2.4.0,<3.0,>=1.10.0; python_version >= \"3.11\" and python_version < \"4.0\"->datamodel-code-generator==0.26.1->label_studio_sdk) (2.2.0)\n",
      "Requirement already satisfied: six>=1.5 in c:\\users\\rasmu\\anaconda3\\envs\\labelstudio\\lib\\site-packages (from python-dateutil>=2.8.2->pandas>=0.24.0->label_studio_sdk) (1.17.0)\n",
      "Requirement already satisfied: wrapt in c:\\users\\rasmu\\anaconda3\\envs\\labelstudio\\lib\\site-packages (from smart-open>=6.3.0->smart-open[http]>=6.3.0->jsf<0.12.0,>=0.11.2->label_studio_sdk) (1.17.2)\n",
      "Requirement already satisfied: sniffio>=1.1 in c:\\users\\rasmu\\anaconda3\\envs\\labelstudio\\lib\\site-packages (from anyio->httpx>=0.21.2->label_studio_sdk) (1.3.1)\n",
      "Requirement already satisfied: dnspython>=2.0.0 in c:\\users\\rasmu\\anaconda3\\envs\\labelstudio\\lib\\site-packages (from email-validator>=2.0.0->pydantic[email]!=2.4.0,<3.0,>=1.10.0; python_version >= \"3.11\" and python_version < \"4.0\"->datamodel-code-generator==0.26.1->label_studio_sdk) (2.7.0)\n",
      "Note: you may need to restart the kernel to use updated packages.\n",
      "Requirement already satisfied: pillow in c:\\users\\rasmu\\anaconda3\\envs\\labelstudio\\lib\\site-packages (11.1.0)\n",
      "Note: you may need to restart the kernel to use updated packages.\n"
     ]
    }
   ],
   "source": [
    "%pip install label_studio_sdk\n",
    "%pip install pillow"
   ]
  },
  {
   "cell_type": "markdown",
   "metadata": {},
   "source": [
    "Lägger till 'src' foldern till vår python path"
   ]
  },
  {
   "cell_type": "code",
   "execution_count": 15,
   "metadata": {},
   "outputs": [],
   "source": [
    "import sys\n",
    "import os\n",
    "\n",
    "# Add the 'src' directory to the Python path\n",
    "src_path = os.path.join(os.getcwd(), 'src')\n",
    "if src_path not in sys.path:\n",
    "    sys.path.append(src_path)\n"
   ]
  },
  {
   "cell_type": "markdown",
   "metadata": {},
   "source": [
    "Konverterar alla input data filer till jpeg "
   ]
  },
  {
   "cell_type": "code",
   "execution_count": null,
   "metadata": {},
   "outputs": [
    {
     "name": "stdout",
     "output_type": "stream",
     "text": [
      "Conversion and copying completed.\n"
     ]
    }
   ],
   "source": [
    "import os\n",
    "from PIL import Image\n",
    "\n",
    "# Input paths\n",
    "input_images_dir = 'c:\\\\Projects\\\\VisionComp\\\\cv-25-project\\\\input-data\\\\images'\n",
    "input_labels_dir = 'c:\\\\Projects\\\\VisionComp\\\\cv-25-project\\\\input-data\\\\labels'\n",
    "\n",
    "# Define your path\n",
    "output_dir = 'c:\\\\Projects\\\\VisionComp\\\\cv-25-project' + \"\\\\yolo_export\"\n",
    "images_dir = os.path.join(output_dir, 'images')\n",
    "labels_dir = os.path.join(output_dir, 'labels')\n",
    "\n",
    "os.makedirs(images_dir, exist_ok=True)\n",
    "os.makedirs(labels_dir, exist_ok=True)\n",
    "\n",
    "# Iterate over all tasks\n",
    "for filename in os.listdir(input_images_dir):\n",
    "    if filename.endswith(\".jpg\") or filename.endswith(\".jpeg\") or filename.endswith(\".png\"):\n",
    "        # construct full file path\n",
    "        image_path = os.path.join(input_images_dir, filename)\n",
    "\n",
    "        # Check if the corresponding label file exists\n",
    "        label_filename = os.path.splitext(filename)[0] + '.txt'\n",
    "        label_path = os.path.join(input_labels_dir, label_filename)\n",
    "\n",
    "        if os.path.exists(label_path):\n",
    "            # Open the iamge file\n",
    "            with Image.open(image_path) as img:\n",
    "                # Save the image to the new directory\n",
    "                rgb_img = img.convert('RGB')\n",
    "\n",
    "                # Save the image in JPG format\n",
    "                output_image_path = os.path.join(images_dir, os.path.splitext(filename)[0] + '.jpg')\n",
    "                rgb_img.save(output_image_path)\n",
    "\n",
    "            # Copy the label file to the new directory\n",
    "            output_label_path = os.path.join(labels_dir, label_filename)\n",
    "            with open(label_path, 'r') as label_file:\n",
    "                label_data = label_file.read()\n",
    "            with open(output_label_path, 'w') as output_label_file:\n",
    "                output_label_file.write(label_data)\n",
    "\n",
    "print(\"Conversion and copying completed.\")"
   ]
  },
  {
   "cell_type": "markdown",
   "metadata": {},
   "source": [
    "## Create CNN Classifier Dataset\n",
    "Lets create a cnn dataset with skiers and snowboarders in seperate folders"
   ]
  },
  {
   "cell_type": "code",
   "execution_count": 16,
   "metadata": {},
   "outputs": [
    {
     "ename": "error",
     "evalue": "OpenCV(4.10.0) D:\\bld\\libopencv_1735821886847\\work\\modules\\imgcodecs\\src\\loadsave.cpp:798: error: (-215:Assertion failed) !_img.empty() in function 'cv::imwrite'\n",
     "output_type": "error",
     "traceback": [
      "\u001b[1;31m---------------------------------------------------------------------------\u001b[0m",
      "\u001b[1;31merror\u001b[0m                                     Traceback (most recent call last)",
      "Cell \u001b[1;32mIn[16], line 11\u001b[0m\n\u001b[0;32m      7\u001b[0m extractor\u001b[38;5;241m.\u001b[39mextract_cnn_data(dataset_path \u001b[38;5;241m+\u001b[39m \u001b[38;5;124m'\u001b[39m\u001b[38;5;130;01m\\\\\u001b[39;00m\u001b[38;5;124mtrain\u001b[39m\u001b[38;5;130;01m\\\\\u001b[39;00m\u001b[38;5;124mimages\u001b[39m\u001b[38;5;124m'\u001b[39m, \n\u001b[0;32m      8\u001b[0m                            dataset_path \u001b[38;5;241m+\u001b[39m \u001b[38;5;124m'\u001b[39m\u001b[38;5;130;01m\\\\\u001b[39;00m\u001b[38;5;124mtrain\u001b[39m\u001b[38;5;130;01m\\\\\u001b[39;00m\u001b[38;5;124mlabels\u001b[39m\u001b[38;5;124m'\u001b[39m, \n\u001b[0;32m      9\u001b[0m                            output_path \u001b[38;5;241m+\u001b[39m \u001b[38;5;124m'\u001b[39m\u001b[38;5;130;01m\\\\\u001b[39;00m\u001b[38;5;124mcnn_data\u001b[39m\u001b[38;5;124m'\u001b[39m)\n\u001b[0;32m     10\u001b[0m \u001b[38;5;66;03m# Extract from the test folder\u001b[39;00m\n\u001b[1;32m---> 11\u001b[0m extractor\u001b[38;5;241m.\u001b[39mextract_cnn_data(dataset_path \u001b[38;5;241m+\u001b[39m \u001b[38;5;124m'\u001b[39m\u001b[38;5;130;01m\\\\\u001b[39;00m\u001b[38;5;124mtest\u001b[39m\u001b[38;5;130;01m\\\\\u001b[39;00m\u001b[38;5;124mimages\u001b[39m\u001b[38;5;124m'\u001b[39m, \n\u001b[0;32m     12\u001b[0m                            dataset_path \u001b[38;5;241m+\u001b[39m \u001b[38;5;124m'\u001b[39m\u001b[38;5;130;01m\\\\\u001b[39;00m\u001b[38;5;124mtest\u001b[39m\u001b[38;5;130;01m\\\\\u001b[39;00m\u001b[38;5;124mlabels\u001b[39m\u001b[38;5;124m'\u001b[39m, \n\u001b[0;32m     13\u001b[0m                            output_path \u001b[38;5;241m+\u001b[39m \u001b[38;5;124m'\u001b[39m\u001b[38;5;130;01m\\\\\u001b[39;00m\u001b[38;5;124mcnn_data\u001b[39m\u001b[38;5;124m'\u001b[39m)\n\u001b[0;32m     14\u001b[0m \u001b[38;5;66;03m# Extract from the validation folder\u001b[39;00m\n\u001b[0;32m     15\u001b[0m extractor\u001b[38;5;241m.\u001b[39mextract_cnn_data(dataset_path \u001b[38;5;241m+\u001b[39m \u001b[38;5;124m'\u001b[39m\u001b[38;5;130;01m\\\\\u001b[39;00m\u001b[38;5;124mval\u001b[39m\u001b[38;5;130;01m\\\\\u001b[39;00m\u001b[38;5;124mimages\u001b[39m\u001b[38;5;124m'\u001b[39m, \n\u001b[0;32m     16\u001b[0m                            dataset_path \u001b[38;5;241m+\u001b[39m \u001b[38;5;124m'\u001b[39m\u001b[38;5;130;01m\\\\\u001b[39;00m\u001b[38;5;124mval\u001b[39m\u001b[38;5;130;01m\\\\\u001b[39;00m\u001b[38;5;124mlabels\u001b[39m\u001b[38;5;124m'\u001b[39m, \n\u001b[0;32m     17\u001b[0m                            output_path \u001b[38;5;241m+\u001b[39m \u001b[38;5;124m'\u001b[39m\u001b[38;5;130;01m\\\\\u001b[39;00m\u001b[38;5;124mcnn_data\u001b[39m\u001b[38;5;124m'\u001b[39m)\n",
      "File \u001b[1;32md:\\Programming\\School\\cv-25\\cv-25-project\\src\\extractor.py:55\u001b[0m, in \u001b[0;36mextract_cnn_data\u001b[1;34m(image_dir, labels_dir, output_dir)\u001b[0m\n\u001b[0;32m     53\u001b[0m class_name \u001b[38;5;241m=\u001b[39m class_map[class_id]\n\u001b[0;32m     54\u001b[0m output_path \u001b[38;5;241m=\u001b[39m os\u001b[38;5;241m.\u001b[39mpath\u001b[38;5;241m.\u001b[39mjoin(output_dir, class_name, \u001b[38;5;124mf\u001b[39m\u001b[38;5;124m\"\u001b[39m\u001b[38;5;132;01m{\u001b[39;00mimg_file\u001b[38;5;132;01m}\u001b[39;00m\u001b[38;5;124m_\u001b[39m\u001b[38;5;132;01m{\u001b[39;00mi\u001b[38;5;132;01m}\u001b[39;00m\u001b[38;5;124m.jpg\u001b[39m\u001b[38;5;124m\"\u001b[39m)\n\u001b[1;32m---> 55\u001b[0m cv\u001b[38;5;241m.\u001b[39mimwrite(output_path, object_img)\n",
      "\u001b[1;31merror\u001b[0m: OpenCV(4.10.0) D:\\bld\\libopencv_1735821886847\\work\\modules\\imgcodecs\\src\\loadsave.cpp:798: error: (-215:Assertion failed) !_img.empty() in function 'cv::imwrite'\n"
     ]
    }
   ],
   "source": [
    "import extractor\n",
    "\n",
    "# Extract the data\n",
    "dataset_path = 'D:\\\\Programming\\\\School\\\\cv-25\\\\cv-25-project\\\\dataset'\n",
    "output_path = 'D:\\\\Programming\\\\School\\\\cv-25\\\\cv-25-project'\n",
    "# Extract from the train folder\n",
    "extractor.extract_cnn_data(dataset_path + '\\\\train\\\\images', \n",
    "                           dataset_path + '\\\\train\\\\labels', \n",
    "                           output_path + '\\\\cnn_data')\n",
    "# Extract from the test folder\n",
    "extractor.extract_cnn_data(dataset_path + '\\\\test\\\\images', \n",
    "                           dataset_path + '\\\\test\\\\labels', \n",
    "                           output_path + '\\\\cnn_data')\n",
    "# Extract from the validation folder\n",
    "extractor.extract_cnn_data(dataset_path + '\\\\val\\\\images', \n",
    "                           dataset_path + '\\\\val\\\\labels', \n",
    "                           output_path + '\\\\cnn_data')"
   ]
  }
 ],
 "metadata": {
  "kernelspec": {
   "display_name": "opencv",
   "language": "python",
   "name": "python3"
  },
  "language_info": {
   "codemirror_mode": {
    "name": "ipython",
    "version": 3
   },
   "file_extension": ".py",
   "mimetype": "text/x-python",
   "name": "python",
   "nbconvert_exporter": "python",
   "pygments_lexer": "ipython3",
   "version": "3.13.1"
  }
 },
 "nbformat": 4,
 "nbformat_minor": 2
}
