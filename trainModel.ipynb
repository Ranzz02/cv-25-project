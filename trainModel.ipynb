{
 "cells": [
  {
   "cell_type": "markdown",
   "metadata": {},
   "source": [
    "# Datorseenede projekt \n",
    "#### Projektet i kursen datorseende"
   ]
  },
  {
   "cell_type": "markdown",
   "metadata": {},
   "source": [
    "### Installationer\n",
    "Installerar paket som behövs för exekveringen av koden."
   ]
  },
  {
   "cell_type": "code",
   "execution_count": 2,
   "metadata": {},
   "outputs": [
    {
     "name": "stdout",
     "output_type": "stream",
     "text": [
      "Requirement already satisfied: split-folders in d:\\programs\\anaconda\\envs\\opencv\\lib\\site-packages (0.5.1)\n",
      "Note: you may need to restart the kernel to use updated packages.\n",
      "Requirement already satisfied: ultralytics in d:\\programs\\anaconda\\envs\\opencv\\lib\\site-packages (8.3.89)\n",
      "Requirement already satisfied: numpy<=2.1.1,>=1.23.0 in d:\\programs\\anaconda\\envs\\opencv\\lib\\site-packages (from ultralytics) (2.1.1)\n",
      "Requirement already satisfied: matplotlib>=3.3.0 in d:\\programs\\anaconda\\envs\\opencv\\lib\\site-packages (from ultralytics) (3.10.0)\n",
      "Requirement already satisfied: opencv-python>=4.6.0 in d:\\programs\\anaconda\\envs\\opencv\\lib\\site-packages (from ultralytics) (4.10.0)\n",
      "Requirement already satisfied: pillow>=7.1.2 in d:\\programs\\anaconda\\envs\\opencv\\lib\\site-packages (from ultralytics) (11.1.0)\n",
      "Requirement already satisfied: pyyaml>=5.3.1 in d:\\programs\\anaconda\\envs\\opencv\\lib\\site-packages (from ultralytics) (6.0.2)\n",
      "Requirement already satisfied: requests>=2.23.0 in d:\\programs\\anaconda\\envs\\opencv\\lib\\site-packages (from ultralytics) (2.32.3)\n",
      "Requirement already satisfied: scipy>=1.4.1 in d:\\programs\\anaconda\\envs\\opencv\\lib\\site-packages (from ultralytics) (1.15.1)\n",
      "Requirement already satisfied: torch>=1.8.0 in d:\\programs\\anaconda\\envs\\opencv\\lib\\site-packages (from ultralytics) (2.6.0+cu126)\n",
      "Requirement already satisfied: torchvision>=0.9.0 in d:\\programs\\anaconda\\envs\\opencv\\lib\\site-packages (from ultralytics) (0.21.0)\n",
      "Requirement already satisfied: tqdm>=4.64.0 in d:\\programs\\anaconda\\envs\\opencv\\lib\\site-packages (from ultralytics) (4.67.1)\n",
      "Requirement already satisfied: psutil in d:\\programs\\anaconda\\envs\\opencv\\lib\\site-packages (from ultralytics) (5.9.0)\n",
      "Requirement already satisfied: py-cpuinfo in d:\\programs\\anaconda\\envs\\opencv\\lib\\site-packages (from ultralytics) (9.0.0)\n",
      "Requirement already satisfied: pandas>=1.1.4 in d:\\programs\\anaconda\\envs\\opencv\\lib\\site-packages (from ultralytics) (2.2.3)\n",
      "Requirement already satisfied: seaborn>=0.11.0 in d:\\programs\\anaconda\\envs\\opencv\\lib\\site-packages (from ultralytics) (0.13.2)\n",
      "Requirement already satisfied: ultralytics-thop>=2.0.0 in d:\\programs\\anaconda\\envs\\opencv\\lib\\site-packages (from ultralytics) (2.0.14)\n",
      "Requirement already satisfied: contourpy>=1.0.1 in d:\\programs\\anaconda\\envs\\opencv\\lib\\site-packages (from matplotlib>=3.3.0->ultralytics) (1.3.1)\n",
      "Requirement already satisfied: cycler>=0.10 in d:\\programs\\anaconda\\envs\\opencv\\lib\\site-packages (from matplotlib>=3.3.0->ultralytics) (0.12.1)\n",
      "Requirement already satisfied: fonttools>=4.22.0 in d:\\programs\\anaconda\\envs\\opencv\\lib\\site-packages (from matplotlib>=3.3.0->ultralytics) (4.55.8)\n",
      "Requirement already satisfied: kiwisolver>=1.3.1 in d:\\programs\\anaconda\\envs\\opencv\\lib\\site-packages (from matplotlib>=3.3.0->ultralytics) (1.4.8)\n",
      "Requirement already satisfied: packaging>=20.0 in d:\\programs\\anaconda\\envs\\opencv\\lib\\site-packages (from matplotlib>=3.3.0->ultralytics) (24.2)\n",
      "Requirement already satisfied: pyparsing>=2.3.1 in d:\\programs\\anaconda\\envs\\opencv\\lib\\site-packages (from matplotlib>=3.3.0->ultralytics) (3.2.1)\n",
      "Requirement already satisfied: python-dateutil>=2.7 in d:\\programs\\anaconda\\envs\\opencv\\lib\\site-packages (from matplotlib>=3.3.0->ultralytics) (2.9.0.post0)\n",
      "Requirement already satisfied: pytz>=2020.1 in d:\\programs\\anaconda\\envs\\opencv\\lib\\site-packages (from pandas>=1.1.4->ultralytics) (2025.1)\n",
      "Requirement already satisfied: tzdata>=2022.7 in d:\\programs\\anaconda\\envs\\opencv\\lib\\site-packages (from pandas>=1.1.4->ultralytics) (2025.1)\n",
      "Requirement already satisfied: charset-normalizer<4,>=2 in d:\\programs\\anaconda\\envs\\opencv\\lib\\site-packages (from requests>=2.23.0->ultralytics) (3.4.1)\n",
      "Requirement already satisfied: idna<4,>=2.5 in d:\\programs\\anaconda\\envs\\opencv\\lib\\site-packages (from requests>=2.23.0->ultralytics) (3.10)\n",
      "Requirement already satisfied: urllib3<3,>=1.21.1 in d:\\programs\\anaconda\\envs\\opencv\\lib\\site-packages (from requests>=2.23.0->ultralytics) (2.3.0)\n",
      "Requirement already satisfied: certifi>=2017.4.17 in d:\\programs\\anaconda\\envs\\opencv\\lib\\site-packages (from requests>=2.23.0->ultralytics) (2025.1.31)\n",
      "Requirement already satisfied: filelock in d:\\programs\\anaconda\\envs\\opencv\\lib\\site-packages (from torch>=1.8.0->ultralytics) (3.17.0)\n",
      "Requirement already satisfied: typing-extensions>=4.10.0 in d:\\programs\\anaconda\\envs\\opencv\\lib\\site-packages (from torch>=1.8.0->ultralytics) (4.12.2)\n",
      "Requirement already satisfied: networkx in d:\\programs\\anaconda\\envs\\opencv\\lib\\site-packages (from torch>=1.8.0->ultralytics) (3.4.2)\n",
      "Requirement already satisfied: jinja2 in d:\\programs\\anaconda\\envs\\opencv\\lib\\site-packages (from torch>=1.8.0->ultralytics) (3.1.5)\n",
      "Requirement already satisfied: fsspec in d:\\programs\\anaconda\\envs\\opencv\\lib\\site-packages (from torch>=1.8.0->ultralytics) (2025.2.0)\n",
      "Requirement already satisfied: setuptools in d:\\programs\\anaconda\\envs\\opencv\\lib\\site-packages (from torch>=1.8.0->ultralytics) (75.8.0)\n",
      "Requirement already satisfied: sympy==1.13.1 in d:\\programs\\anaconda\\envs\\opencv\\lib\\site-packages (from torch>=1.8.0->ultralytics) (1.13.1)\n",
      "Requirement already satisfied: mpmath<1.4,>=1.1.0 in d:\\programs\\anaconda\\envs\\opencv\\lib\\site-packages (from sympy==1.13.1->torch>=1.8.0->ultralytics) (1.3.0)\n",
      "Requirement already satisfied: colorama in d:\\programs\\anaconda\\envs\\opencv\\lib\\site-packages (from tqdm>=4.64.0->ultralytics) (0.4.6)\n",
      "Requirement already satisfied: six>=1.5 in d:\\programs\\anaconda\\envs\\opencv\\lib\\site-packages (from python-dateutil>=2.7->matplotlib>=3.3.0->ultralytics) (1.16.0)\n",
      "Requirement already satisfied: MarkupSafe>=2.0 in d:\\programs\\anaconda\\envs\\opencv\\lib\\site-packages (from jinja2->torch>=1.8.0->ultralytics) (3.0.2)\n",
      "Note: you may need to restart the kernel to use updated packages.\n",
      "Found existing installation: torch 2.6.0+cu126\n",
      "Uninstalling torch-2.6.0+cu126:\n",
      "  Successfully uninstalled torch-2.6.0+cu126\n",
      "Found existing installation: torchvision 0.21.0\n",
      "Uninstalling torchvision-0.21.0:\n",
      "  Successfully uninstalled torchvision-0.21.0\n",
      "Found existing installation: torchaudio 2.6.0+cu126\n",
      "Uninstalling torchaudio-2.6.0+cu126:\n",
      "  Successfully uninstalled torchaudio-2.6.0+cu126\n",
      "Note: you may need to restart the kernel to use updated packages.\n",
      "Looking in indexes: https://download.pytorch.org/whl/cu126\n",
      "Collecting torch\n",
      "  Using cached https://download.pytorch.org/whl/cu126/torch-2.6.0%2Bcu126-cp313-cp313-win_amd64.whl.metadata (28 kB)\n",
      "Collecting torchvision\n",
      "  Downloading https://download.pytorch.org/whl/cu126/torchvision-0.21.0%2Bcu126-cp313-cp313-win_amd64.whl.metadata (6.3 kB)\n",
      "Collecting torchaudio\n",
      "  Using cached https://download.pytorch.org/whl/cu126/torchaudio-2.6.0%2Bcu126-cp313-cp313-win_amd64.whl.metadata (6.8 kB)\n",
      "Requirement already satisfied: filelock in d:\\programs\\anaconda\\envs\\opencv\\lib\\site-packages (from torch) (3.17.0)\n",
      "Requirement already satisfied: typing-extensions>=4.10.0 in d:\\programs\\anaconda\\envs\\opencv\\lib\\site-packages (from torch) (4.12.2)\n",
      "Requirement already satisfied: networkx in d:\\programs\\anaconda\\envs\\opencv\\lib\\site-packages (from torch) (3.4.2)\n",
      "Requirement already satisfied: jinja2 in d:\\programs\\anaconda\\envs\\opencv\\lib\\site-packages (from torch) (3.1.5)\n",
      "Requirement already satisfied: fsspec in d:\\programs\\anaconda\\envs\\opencv\\lib\\site-packages (from torch) (2025.2.0)\n",
      "Requirement already satisfied: setuptools in d:\\programs\\anaconda\\envs\\opencv\\lib\\site-packages (from torch) (75.8.0)\n",
      "Requirement already satisfied: sympy==1.13.1 in d:\\programs\\anaconda\\envs\\opencv\\lib\\site-packages (from torch) (1.13.1)\n",
      "Requirement already satisfied: mpmath<1.4,>=1.1.0 in d:\\programs\\anaconda\\envs\\opencv\\lib\\site-packages (from sympy==1.13.1->torch) (1.3.0)\n",
      "Requirement already satisfied: numpy in d:\\programs\\anaconda\\envs\\opencv\\lib\\site-packages (from torchvision) (2.1.1)\n",
      "Requirement already satisfied: pillow!=8.3.*,>=5.3.0 in d:\\programs\\anaconda\\envs\\opencv\\lib\\site-packages (from torchvision) (11.1.0)\n",
      "Requirement already satisfied: MarkupSafe>=2.0 in d:\\programs\\anaconda\\envs\\opencv\\lib\\site-packages (from jinja2->torch) (3.0.2)\n",
      "Using cached https://download.pytorch.org/whl/cu126/torch-2.6.0%2Bcu126-cp313-cp313-win_amd64.whl (2496.1 MB)\n",
      "Downloading https://download.pytorch.org/whl/cu126/torchvision-0.21.0%2Bcu126-cp313-cp313-win_amd64.whl (6.1 MB)\n",
      "   ---------------------------------------- 0.0/6.1 MB ? eta -:--:--\n",
      "   ---------------------------------------- 0.0/6.1 MB ? eta -:--:--\n",
      "   ---------------------------------------- 0.0/6.1 MB ? eta -:--:--\n",
      "   - -------------------------------------- 0.3/6.1 MB ? eta -:--:--\n",
      "   - -------------------------------------- 0.3/6.1 MB ? eta -:--:--\n",
      "   --- ------------------------------------ 0.5/6.1 MB 659.3 kB/s eta 0:00:09\n",
      "   ----- ---------------------------------- 0.8/6.1 MB 655.0 kB/s eta 0:00:09\n",
      "   ----- ---------------------------------- 0.8/6.1 MB 655.0 kB/s eta 0:00:09\n",
      "   ------ --------------------------------- 1.0/6.1 MB 733.7 kB/s eta 0:00:07\n",
      "   -------- ------------------------------- 1.3/6.1 MB 775.9 kB/s eta 0:00:07\n",
      "   ---------- ----------------------------- 1.6/6.1 MB 846.0 kB/s eta 0:00:06\n",
      "   ----------- ---------------------------- 1.8/6.1 MB 903.4 kB/s eta 0:00:05\n",
      "   --------------- ------------------------ 2.4/6.1 MB 1.0 MB/s eta 0:00:04\n",
      "   ----------------- ---------------------- 2.6/6.1 MB 1.1 MB/s eta 0:00:04\n",
      "   ------------------ --------------------- 2.9/6.1 MB 1.1 MB/s eta 0:00:03\n",
      "   ---------------------- ----------------- 3.4/6.1 MB 1.2 MB/s eta 0:00:03\n",
      "   ----------------------- ---------------- 3.7/6.1 MB 1.2 MB/s eta 0:00:03\n",
      "   --------------------------- ------------ 4.2/6.1 MB 1.3 MB/s eta 0:00:02\n",
      "   ---------------------------- ----------- 4.5/6.1 MB 1.3 MB/s eta 0:00:02\n",
      "   -------------------------------- ------- 5.0/6.1 MB 1.3 MB/s eta 0:00:01\n",
      "   ---------------------------------- ----- 5.2/6.1 MB 1.4 MB/s eta 0:00:01\n",
      "   ------------------------------------- -- 5.8/6.1 MB 1.4 MB/s eta 0:00:01\n",
      "   ---------------------------------------  6.0/6.1 MB 1.4 MB/s eta 0:00:01\n",
      "   ---------------------------------------- 6.1/6.1 MB 1.4 MB/s eta 0:00:00\n",
      "Using cached https://download.pytorch.org/whl/cu126/torchaudio-2.6.0%2Bcu126-cp313-cp313-win_amd64.whl (4.2 MB)\n",
      "Installing collected packages: torch, torchvision, torchaudio\n",
      "Successfully installed torch-2.6.0+cu126 torchaudio-2.6.0+cu126 torchvision-0.21.0+cu126\n",
      "Note: you may need to restart the kernel to use updated packages.\n"
     ]
    }
   ],
   "source": [
    "%pip install split-folders\n",
    "%pip install --upgrade ultralytics\n",
    "%pip uninstall -y torch torchvision torchaudio\n",
    "%pip install torch torchvision torchaudio --index-url https://download.pytorch.org/whl/cu126"
   ]
  },
  {
   "cell_type": "code",
   "execution_count": 3,
   "metadata": {},
   "outputs": [
    {
     "name": "stdout",
     "output_type": "stream",
     "text": [
      "2.6.0+cu126\n",
      "0.21.0+cu126\n",
      "True\n"
     ]
    }
   ],
   "source": [
    "import torch\n",
    "import torchvision\n",
    "print(torch.__version__)  # Ska vara 2.6.0+cu126\n",
    "print(torchvision.__version__)  # Ska ha +cu126, inte +cpu\n",
    "print(torch.cuda.is_available())  # Ska vara True\n"
   ]
  },
  {
   "cell_type": "markdown",
   "metadata": {},
   "source": [
    "### Spjälka data \n",
    "Spjälker data för att kunna användas i yolo modellen. Data spjälks till test, train och val."
   ]
  },
  {
   "cell_type": "code",
   "execution_count": 5,
   "metadata": {},
   "outputs": [
    {
     "name": "stderr",
     "output_type": "stream",
     "text": [
      "Copying files: 2762 files [00:03, 827.66 files/s]\n"
     ]
    }
   ],
   "source": [
    "import splitfolders\n",
    "\n",
    "input_folder = \"./input-data\"\n",
    "output_folder = \"./dataset\"\n",
    "\n",
    "splitfolders.ratio(input_folder,output = output_folder, seed=42, ratio=(0.8,0.1,0.1),group_prefix=None)"
   ]
  },
  {
   "cell_type": "markdown",
   "metadata": {},
   "source": [
    "## Utför träningen \n",
    "Träna en yolov11 model med datan som vi har, med passande parametrar för egen dator att köra."
   ]
  },
  {
   "cell_type": "code",
   "execution_count": null,
   "metadata": {},
   "outputs": [
    {
     "name": "stdout",
     "output_type": "stream",
     "text": [
      "Ultralytics 8.3.89  Python-3.13.1 torch-2.6.0+cu126 CUDA:0 (NVIDIA GeForce GTX 1650 Ti, 4096MiB)\n",
      "\u001b[34m\u001b[1mengine\\trainer: \u001b[0mtask=detect, mode=train, model=yolo11n.pt, data=config.yaml, epochs=10, time=None, patience=20, batch=12, imgsz=480, save=True, save_period=-1, cache=False, device=cuda:0, workers=12, project=./output, name=test, exist_ok=True, pretrained=True, optimizer=adam, verbose=True, seed=0, deterministic=True, single_cls=False, rect=False, cos_lr=False, close_mosaic=10, resume=False, amp=True, fraction=1.0, profile=False, freeze=None, multi_scale=False, overlap_mask=True, mask_ratio=4, dropout=0.0, val=True, split=val, save_json=False, save_hybrid=False, conf=None, iou=0.7, max_det=300, half=False, dnn=False, plots=True, source=None, vid_stride=1, stream_buffer=False, visualize=False, augment=False, agnostic_nms=False, classes=None, retina_masks=False, embed=None, show=False, save_frames=False, save_txt=False, save_conf=False, save_crop=False, show_labels=True, show_conf=True, show_boxes=True, line_width=None, format=torchscript, keras=False, optimize=False, int8=False, dynamic=False, simplify=True, opset=None, workspace=None, nms=False, lr0=0.01, lrf=0.01, momentum=0.937, weight_decay=0.0005, warmup_epochs=3.0, warmup_momentum=0.8, warmup_bias_lr=0.1, box=7.5, cls=0.5, dfl=1.5, pose=12.0, kobj=1.0, nbs=64, hsv_h=0.015, hsv_s=0.7, hsv_v=0.4, degrees=0.0, translate=0.1, scale=0.5, shear=0.0, perspective=0.0, flipud=0.0, fliplr=0.5, bgr=0.0, mosaic=1.0, mixup=0.0, copy_paste=0.0, copy_paste_mode=flip, auto_augment=randaugment, erasing=0.4, crop_fraction=1.0, cfg=None, tracker=botsort.yaml, save_dir=output\\test\n",
      "Downloading https://ultralytics.com/assets/Arial.ttf to 'C:\\Users\\rasmu_4m7pgf4\\AppData\\Roaming\\Ultralytics\\Arial.ttf'...\n"
     ]
    },
    {
     "name": "stderr",
     "output_type": "stream",
     "text": [
      "100%|██████████| 755k/755k [00:01<00:00, 768kB/s]"
     ]
    },
    {
     "name": "stdout",
     "output_type": "stream",
     "text": [
      "Overriding model.yaml nc=80 with nc=2\n",
      "\n",
      "                   from  n    params  module                                       arguments                     \n"
     ]
    },
    {
     "name": "stderr",
     "output_type": "stream",
     "text": [
      "\n"
     ]
    },
    {
     "name": "stdout",
     "output_type": "stream",
     "text": [
      "  0                  -1  1       464  ultralytics.nn.modules.conv.Conv             [3, 16, 3, 2]                 \n",
      "  1                  -1  1      4672  ultralytics.nn.modules.conv.Conv             [16, 32, 3, 2]                \n",
      "  2                  -1  1      6640  ultralytics.nn.modules.block.C3k2            [32, 64, 1, False, 0.25]      \n",
      "  3                  -1  1     36992  ultralytics.nn.modules.conv.Conv             [64, 64, 3, 2]                \n",
      "  4                  -1  1     26080  ultralytics.nn.modules.block.C3k2            [64, 128, 1, False, 0.25]     \n",
      "  5                  -1  1    147712  ultralytics.nn.modules.conv.Conv             [128, 128, 3, 2]              \n",
      "  6                  -1  1     87040  ultralytics.nn.modules.block.C3k2            [128, 128, 1, True]           \n",
      "  7                  -1  1    295424  ultralytics.nn.modules.conv.Conv             [128, 256, 3, 2]              \n",
      "  8                  -1  1    346112  ultralytics.nn.modules.block.C3k2            [256, 256, 1, True]           \n",
      "  9                  -1  1    164608  ultralytics.nn.modules.block.SPPF            [256, 256, 5]                 \n",
      " 10                  -1  1    249728  ultralytics.nn.modules.block.C2PSA           [256, 256, 1]                 \n",
      " 11                  -1  1         0  torch.nn.modules.upsampling.Upsample         [None, 2, 'nearest']          \n",
      " 12             [-1, 6]  1         0  ultralytics.nn.modules.conv.Concat           [1]                           \n",
      " 13                  -1  1    111296  ultralytics.nn.modules.block.C3k2            [384, 128, 1, False]          \n",
      " 14                  -1  1         0  torch.nn.modules.upsampling.Upsample         [None, 2, 'nearest']          \n",
      " 15             [-1, 4]  1         0  ultralytics.nn.modules.conv.Concat           [1]                           \n",
      " 16                  -1  1     32096  ultralytics.nn.modules.block.C3k2            [256, 64, 1, False]           \n",
      " 17                  -1  1     36992  ultralytics.nn.modules.conv.Conv             [64, 64, 3, 2]                \n",
      " 18            [-1, 13]  1         0  ultralytics.nn.modules.conv.Concat           [1]                           \n",
      " 19                  -1  1     86720  ultralytics.nn.modules.block.C3k2            [192, 128, 1, False]          \n",
      " 20                  -1  1    147712  ultralytics.nn.modules.conv.Conv             [128, 128, 3, 2]              \n",
      " 21            [-1, 10]  1         0  ultralytics.nn.modules.conv.Concat           [1]                           \n",
      " 22                  -1  1    378880  ultralytics.nn.modules.block.C3k2            [384, 256, 1, True]           \n",
      " 23        [16, 19, 22]  1    431062  ultralytics.nn.modules.head.Detect           [2, [64, 128, 256]]           \n",
      "YOLO11n summary: 181 layers, 2,590,230 parameters, 2,590,214 gradients, 6.4 GFLOPs\n",
      "\n",
      "Transferred 448/499 items from pretrained weights\n",
      "Freezing layer 'model.23.dfl.conv.weight'\n",
      "\u001b[34m\u001b[1mAMP: \u001b[0mchecks failed . AMP training on NVIDIA GeForce GTX 1650 Ti GPU may cause NaN losses or zero-mAP results, so AMP will be disabled during training.\n"
     ]
    },
    {
     "name": "stderr",
     "output_type": "stream",
     "text": [
      "\u001b[34m\u001b[1mtrain: \u001b[0mScanning D:\\Programming\\School\\cv-25\\cv-25-project\\dataset\\train\\labels... 1104 images, 0 backgrounds, 1 corrupt: 100%|██████████| 1104/1104 [00:03<00:00, 339.48it/s]"
     ]
    },
    {
     "name": "stdout",
     "output_type": "stream",
     "text": [
      "\u001b[34m\u001b[1mtrain: \u001b[0mWARNING  D:\\Programming\\School\\cv-25\\cv-25-project\\dataset\\train\\images\\312.jpg: ignoring corrupt image/label: non-normalized or out of bounds coordinates [1.0510782]\n"
     ]
    },
    {
     "name": "stderr",
     "output_type": "stream",
     "text": [
      "\n"
     ]
    },
    {
     "name": "stdout",
     "output_type": "stream",
     "text": [
      "\u001b[34m\u001b[1mtrain: \u001b[0mNew cache created: D:\\Programming\\School\\cv-25\\cv-25-project\\dataset\\train\\labels.cache\n"
     ]
    },
    {
     "name": "stderr",
     "output_type": "stream",
     "text": [
      "\u001b[34m\u001b[1mval: \u001b[0mScanning D:\\Programming\\School\\cv-25\\cv-25-project\\dataset\\val\\labels... 138 images, 1 backgrounds, 0 corrupt: 100%|██████████| 138/138 [00:00<00:00, 199.73it/s]\n"
     ]
    },
    {
     "name": "stdout",
     "output_type": "stream",
     "text": [
      "\u001b[34m\u001b[1mval: \u001b[0mNew cache created: D:\\Programming\\School\\cv-25\\cv-25-project\\dataset\\val\\labels.cache\n",
      "Plotting labels to output\\test\\labels.jpg... \n",
      "\u001b[34m\u001b[1moptimizer:\u001b[0m Adam(lr=0.01, momentum=0.937) with parameter groups 81 weight(decay=0.0), 88 weight(decay=0.00046875), 87 bias(decay=0.0)\n",
      "Image sizes 480 train, 480 val\n",
      "Using 12 dataloader workers\n",
      "Logging results to \u001b[1moutput\\test\u001b[0m\n",
      "Starting training for 10 epochs...\n",
      "Closing dataloader mosaic\n",
      "\n",
      "      Epoch    GPU_mem   box_loss   cls_loss   dfl_loss  Instances       Size\n"
     ]
    },
    {
     "name": "stderr",
     "output_type": "stream",
     "text": [
      "       1/10      2.22G      1.929      2.259      1.709         19        480: 100%|██████████| 92/92 [00:23<00:00,  3.98it/s]\n",
      "                 Class     Images  Instances      Box(P          R      mAP50  mAP50-95): 100%|██████████| 6/6 [00:02<00:00,  2.56it/s]"
     ]
    },
    {
     "name": "stdout",
     "output_type": "stream",
     "text": [
      "                   all        138        205      0.504      0.116    0.00266   0.000907\n"
     ]
    },
    {
     "name": "stderr",
     "output_type": "stream",
     "text": [
      "\n"
     ]
    },
    {
     "name": "stdout",
     "output_type": "stream",
     "text": [
      "\n",
      "      Epoch    GPU_mem   box_loss   cls_loss   dfl_loss  Instances       Size\n"
     ]
    },
    {
     "name": "stderr",
     "output_type": "stream",
     "text": [
      "       2/10      2.83G      1.987      1.985      1.766         18        480: 100%|██████████| 92/92 [00:20<00:00,  4.60it/s]\n",
      "                 Class     Images  Instances      Box(P          R      mAP50  mAP50-95): 100%|██████████| 6/6 [00:01<00:00,  5.30it/s]"
     ]
    },
    {
     "name": "stdout",
     "output_type": "stream",
     "text": [
      "                   all        138        205     0.0163     0.0871    0.00795    0.00235\n"
     ]
    },
    {
     "name": "stderr",
     "output_type": "stream",
     "text": [
      "\n"
     ]
    },
    {
     "name": "stdout",
     "output_type": "stream",
     "text": [
      "\n",
      "      Epoch    GPU_mem   box_loss   cls_loss   dfl_loss  Instances       Size\n"
     ]
    },
    {
     "name": "stderr",
     "output_type": "stream",
     "text": [
      "       3/10      2.85G      1.915      1.867      1.695         23        480: 100%|██████████| 92/92 [00:19<00:00,  4.69it/s]\n",
      "                 Class     Images  Instances      Box(P          R      mAP50  mAP50-95): 100%|██████████| 6/6 [00:01<00:00,  5.32it/s]"
     ]
    },
    {
     "name": "stdout",
     "output_type": "stream",
     "text": [
      "                   all        138        205      0.347      0.492      0.327      0.146\n"
     ]
    },
    {
     "name": "stderr",
     "output_type": "stream",
     "text": [
      "\n"
     ]
    },
    {
     "name": "stdout",
     "output_type": "stream",
     "text": [
      "\n",
      "      Epoch    GPU_mem   box_loss   cls_loss   dfl_loss  Instances       Size\n"
     ]
    },
    {
     "name": "stderr",
     "output_type": "stream",
     "text": [
      "       4/10      2.86G      1.806      1.746      1.636         26        480: 100%|██████████| 92/92 [00:20<00:00,  4.56it/s]\n",
      "                 Class     Images  Instances      Box(P          R      mAP50  mAP50-95): 100%|██████████| 6/6 [00:01<00:00,  5.32it/s]"
     ]
    },
    {
     "name": "stdout",
     "output_type": "stream",
     "text": [
      "                   all        138        205      0.293      0.501      0.295      0.127\n"
     ]
    },
    {
     "name": "stderr",
     "output_type": "stream",
     "text": [
      "\n"
     ]
    },
    {
     "name": "stdout",
     "output_type": "stream",
     "text": [
      "\n",
      "      Epoch    GPU_mem   box_loss   cls_loss   dfl_loss  Instances       Size\n"
     ]
    },
    {
     "name": "stderr",
     "output_type": "stream",
     "text": [
      "       5/10      2.88G      1.714      1.682      1.541         14        480: 100%|██████████| 92/92 [00:19<00:00,  4.77it/s]\n",
      "                 Class     Images  Instances      Box(P          R      mAP50  mAP50-95): 100%|██████████| 6/6 [00:01<00:00,  5.24it/s]"
     ]
    },
    {
     "name": "stdout",
     "output_type": "stream",
     "text": [
      "                   all        138        205      0.233      0.393      0.221      0.114\n"
     ]
    },
    {
     "name": "stderr",
     "output_type": "stream",
     "text": [
      "\n"
     ]
    },
    {
     "name": "stdout",
     "output_type": "stream",
     "text": [
      "\n",
      "      Epoch    GPU_mem   box_loss   cls_loss   dfl_loss  Instances       Size\n"
     ]
    },
    {
     "name": "stderr",
     "output_type": "stream",
     "text": [
      "       6/10      2.89G      1.687      1.621      1.504         17        480: 100%|██████████| 92/92 [00:19<00:00,  4.64it/s]\n",
      "                 Class     Images  Instances      Box(P          R      mAP50  mAP50-95): 100%|██████████| 6/6 [00:01<00:00,  5.48it/s]"
     ]
    },
    {
     "name": "stdout",
     "output_type": "stream",
     "text": [
      "                   all        138        205      0.237      0.212      0.141     0.0636\n"
     ]
    },
    {
     "name": "stderr",
     "output_type": "stream",
     "text": [
      "\n"
     ]
    },
    {
     "name": "stdout",
     "output_type": "stream",
     "text": [
      "\n",
      "      Epoch    GPU_mem   box_loss   cls_loss   dfl_loss  Instances       Size\n"
     ]
    },
    {
     "name": "stderr",
     "output_type": "stream",
     "text": [
      "       7/10      2.91G      1.612      1.575      1.445         48        480: 100%|██████████| 92/92 [00:19<00:00,  4.69it/s]\n",
      "                 Class     Images  Instances      Box(P          R      mAP50  mAP50-95): 100%|██████████| 6/6 [00:01<00:00,  5.21it/s]"
     ]
    },
    {
     "name": "stdout",
     "output_type": "stream",
     "text": [
      "                   all        138        205      0.381      0.655      0.419       0.22\n"
     ]
    },
    {
     "name": "stderr",
     "output_type": "stream",
     "text": [
      "\n"
     ]
    },
    {
     "name": "stdout",
     "output_type": "stream",
     "text": [
      "\n",
      "      Epoch    GPU_mem   box_loss   cls_loss   dfl_loss  Instances       Size\n"
     ]
    },
    {
     "name": "stderr",
     "output_type": "stream",
     "text": [
      "       8/10      2.92G      1.541      1.473      1.401         18        480: 100%|██████████| 92/92 [00:19<00:00,  4.68it/s]\n",
      "                 Class     Images  Instances      Box(P          R      mAP50  mAP50-95): 100%|██████████| 6/6 [00:02<00:00,  2.74it/s]"
     ]
    },
    {
     "name": "stdout",
     "output_type": "stream",
     "text": [
      "                   all        138        205      0.434       0.64      0.446      0.236\n"
     ]
    },
    {
     "name": "stderr",
     "output_type": "stream",
     "text": [
      "\n"
     ]
    },
    {
     "name": "stdout",
     "output_type": "stream",
     "text": [
      "\n",
      "      Epoch    GPU_mem   box_loss   cls_loss   dfl_loss  Instances       Size\n"
     ]
    },
    {
     "name": "stderr",
     "output_type": "stream",
     "text": [
      "       9/10      2.94G      1.496      1.435      1.369         12        480: 100%|██████████| 92/92 [00:25<00:00,  3.60it/s]\n",
      "                 Class     Images  Instances      Box(P          R      mAP50  mAP50-95): 100%|██████████| 6/6 [00:01<00:00,  5.28it/s]"
     ]
    },
    {
     "name": "stdout",
     "output_type": "stream",
     "text": [
      "                   all        138        205      0.433       0.68      0.485      0.269\n"
     ]
    },
    {
     "name": "stderr",
     "output_type": "stream",
     "text": [
      "\n"
     ]
    },
    {
     "name": "stdout",
     "output_type": "stream",
     "text": [
      "\n",
      "      Epoch    GPU_mem   box_loss   cls_loss   dfl_loss  Instances       Size\n"
     ]
    },
    {
     "name": "stderr",
     "output_type": "stream",
     "text": [
      "      10/10      2.95G      1.414      1.386      1.322         40        480: 100%|██████████| 92/92 [00:19<00:00,  4.71it/s]\n",
      "                 Class     Images  Instances      Box(P          R      mAP50  mAP50-95): 100%|██████████| 6/6 [00:01<00:00,  4.91it/s]"
     ]
    },
    {
     "name": "stdout",
     "output_type": "stream",
     "text": [
      "                   all        138        205      0.422      0.705      0.516      0.298\n"
     ]
    },
    {
     "name": "stderr",
     "output_type": "stream",
     "text": [
      "\n"
     ]
    },
    {
     "name": "stdout",
     "output_type": "stream",
     "text": [
      "\n",
      "10 epochs completed in 0.088 hours.\n",
      "Optimizer stripped from output\\test\\weights\\last.pt, 5.4MB\n",
      "Optimizer stripped from output\\test\\weights\\best.pt, 5.4MB\n",
      "\n",
      "Validating output\\test\\weights\\best.pt...\n",
      "Ultralytics 8.3.89  Python-3.13.1 torch-2.6.0+cu126 CUDA:0 (NVIDIA GeForce GTX 1650 Ti, 4096MiB)\n",
      "YOLO11n summary (fused): 100 layers, 2,582,542 parameters, 0 gradients, 6.3 GFLOPs\n"
     ]
    },
    {
     "name": "stderr",
     "output_type": "stream",
     "text": [
      "                 Class     Images  Instances      Box(P          R      mAP50  mAP50-95): 100%|██████████| 6/6 [00:01<00:00,  4.52it/s]\n"
     ]
    },
    {
     "name": "stdout",
     "output_type": "stream",
     "text": [
      "                   all        138        205      0.422      0.705      0.517      0.298\n",
      "                 skier         84        121      0.496      0.851      0.621      0.368\n",
      "           snowboarder         72         84      0.347       0.56      0.412      0.229\n",
      "Speed: 0.5ms preprocess, 3.0ms inference, 0.0ms loss, 1.8ms postprocess per image\n",
      "Results saved to \u001b[1moutput\\test\u001b[0m\n",
      "Ultralytics 8.3.89  Python-3.13.1 torch-2.6.0+cu126 CUDA:0 (NVIDIA GeForce GTX 1650 Ti, 4096MiB)\n",
      "YOLO11n summary (fused): 100 layers, 2,582,542 parameters, 0 gradients, 6.3 GFLOPs\n"
     ]
    },
    {
     "name": "stderr",
     "output_type": "stream",
     "text": [
      "\u001b[34m\u001b[1mval: \u001b[0mScanning D:\\Programming\\School\\cv-25\\cv-25-project\\dataset\\val\\labels.cache... 138 images, 1 backgrounds, 0 corrupt: 100%|██████████| 138/138 [00:00<?, ?it/s]\n",
      "                 Class     Images  Instances      Box(P          R      mAP50  mAP50-95): 100%|██████████| 12/12 [00:15<00:00,  1.33s/it]\n"
     ]
    },
    {
     "name": "stdout",
     "output_type": "stream",
     "text": [
      "                   all        138        205      0.416      0.761      0.517      0.297\n",
      "                 skier         84        121      0.474      0.868      0.625       0.37\n",
      "           snowboarder         72         84      0.358      0.655       0.41      0.224\n",
      "Speed: 0.6ms preprocess, 9.2ms inference, 0.0ms loss, 2.1ms postprocess per image\n",
      "Results saved to \u001b[1moutput\\test\u001b[0m\n",
      "Ultralytics 8.3.89  Python-3.13.1 torch-2.6.0+cu126 CPU (AMD Ryzen 5 4600H with Radeon Graphics)\n",
      "\n",
      "\u001b[34m\u001b[1mPyTorch:\u001b[0m starting from 'output\\test\\weights\\best.pt' with input shape (1, 3, 480, 480) BCHW and output shape(s) (1, 6, 4725) (5.2 MB)\n",
      "\u001b[31m\u001b[1mrequirements:\u001b[0m Ultralytics requirements ['onnx>=1.12.0', 'onnxslim', 'onnxruntime-gpu'] not found, attempting AutoUpdate...\n",
      "Retry 1/2 failed: Command 'pip install --no-cache-dir \"onnx>=1.12.0\" \"onnxslim\" \"onnxruntime-gpu\" ' returned non-zero exit status 1.\n"
     ]
    }
   ],
   "source": [
    "from ultralytics import YOLO\n",
    "\n",
    "# Load a pretrained YOLO model (recommended for training)\n",
    "model = YOLO(\"yolo11n.pt\")\n",
    "\n",
    "\n",
    "results = model.train(\n",
    "    data=\"config.yaml\",        # Din träningsdata\n",
    "    project=\"./output\",         # Utmatningsmapp\n",
    "    device='cuda:0',            # Träna på GPU (ändra om du vill använda CPU)\n",
    "    epochs=10,                 # Antal epoker\n",
    "    batch=12,                   # Låt YOLO välja den bästa batch-storleken baserat på GPU-minne\n",
    "    imgsz=480,                  # Bildstorlek, 640x640 bör vara bra för din GPU\n",
    "    amp=True,                   # Aktivera Automatic Mixed Precision för snabbare träning och mindre minne              # Spara modellen var 5:e epok\n",
    "    optimizer='adam',           # Använd Adam optimizer för bättre konvergens\n",
    "    workers=12,                 # Antal arbetare för dataladdning, öka om du har fler CPU-kärnor       \n",
    "    name=\"test\",          # Namn på träningssessionen\n",
    "    patience=20,                # Stoppar om ingen förbättring efter 10 epochs\n",
    "    exist_ok=True,              # Om du vill skriva över tidigare resultat\n",
    ")\n",
    "# Evaluate the model's performance on the validation set\n",
    "results = model.val()\n",
    "\n",
    "# Export the model to ONNX format\n",
    "success = model.export(format=\"onnx\")"
   ]
  }
 ],
 "metadata": {
  "kernelspec": {
   "display_name": "opencv",
   "language": "python",
   "name": "python3"
  },
  "language_info": {
   "codemirror_mode": {
    "name": "ipython",
    "version": 3
   },
   "file_extension": ".py",
   "mimetype": "text/x-python",
   "name": "python",
   "nbconvert_exporter": "python",
   "pygments_lexer": "ipython3",
   "version": "3.13.1"
  }
 },
 "nbformat": 4,
 "nbformat_minor": 2
}
